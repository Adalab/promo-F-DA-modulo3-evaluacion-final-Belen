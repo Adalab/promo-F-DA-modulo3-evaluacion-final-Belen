{
 "cells": [
  {
   "cell_type": "code",
   "execution_count": null,
   "metadata": {},
   "outputs": [],
   "source": [
    "import pandas as pd\n",
    "import numpy as np\n",
    "\n",
    "import matplotlib.pyplot as plt\n",
    "import seaborn as sns\n",
    "\n",
    "from sklearn.impute import SimpleImputer\n",
    "from sklearn.experimental import enable_iterative_imputer\n",
    "from sklearn.impute import IterativeImputer\n",
    "from sklearn.impute import KNNImputer\n",
    "\n",
    "from scipy.stats import shapiro,  poisson, chisquare, expon, kstest\n",
    "from scipy import stats\n",
    "from scipy.stats import norm\n",
    "#import statsmodels.api as sm\n",
    "\n",
    "# Gestión de los warnings\n",
    "# -------------------------------\n",
    "import warnings\n",
    "warnings.filterwarnings(\"ignore\")\n"
   ]
  },
  {
   "cell_type": "markdown",
   "metadata": {},
   "source": [
    "###                 Fase 1: Exploracion y limpieza"
   ]
  },
  {
   "cell_type": "markdown",
   "metadata": {},
   "source": [
    "##### 1. Exploración inicial."
   ]
  },
  {
   "cell_type": "code",
   "execution_count": null,
   "metadata": {},
   "outputs": [],
   "source": [
    "pd.set_option('display.max_columns', None) # para poder visualizar todas las columnas de los DataFrames\n",
    "\n",
    "df= pd.read_csv('Customer_Flight_Activity.csv',header=0)\n",
    "dfhist = pd.read_csv('Customer_Loyalty_History.csv',header=0)"
   ]
  },
  {
   "cell_type": "code",
   "execution_count": null,
   "metadata": {},
   "outputs": [],
   "source": [
    "def exploracion_dataframe(dataframe):\n",
    "    \"\"\"\n",
    "    Función que explora un dataframe.\n",
    "    \n",
    "    Parametros:\n",
    "        dataframe (DataFrame): dataframe para explorar\n",
    "\n",
    "    Returns:\n",
    "        Esta función visualiza con prints con información \n",
    "        de los datos del dataframe\n",
    "    \"\"\"\n",
    "    print(f\"El dataframe contiene {df.shape[0]} filas y {df.shape[1]} columnas\")\n",
    "    print(f\"De todo el conjunto de datos tenemos  {dataframe.duplicated().sum()} duplicados.\")\n",
    "    print(\"\\n ..................... \\n\")\n",
    "    display(dataframe.sample(5))\n",
    "    display(dataframe.info())\n",
    "    \n",
    "    # generamos un DataFrame para los valores nulos\n",
    "    print(\"De todo el conjunto de datos tenemos los siguientes nulos:\")\n",
    "    df_nulos = pd.DataFrame(dataframe.isnull().sum() / dataframe.shape[0] * 100, columns = [\"%_nulos\"])\n",
    "    display(df_nulos[df_nulos[\"%_nulos\"] > 0])\n",
    "    \n",
    "    print(\"\\n ..................... \\n\")\n",
    "    print(f\"Las columnas son de tipo:\")\n",
    "    display(pd.DataFrame(dataframe.dtypes, columns = [\"tipo_dato\"]))\n",
    "    \n",
    "\n",
    "    print(\"\\n ..................... \\n\")\n",
    "    \n",
    "    dataframe_categoricas = dataframe.select_dtypes(include = \"O\")\n",
    "\n",
    "    print(\"Los valores que tenemos para las columnas categóricas son: \")\n",
    "    \n",
    "    for col in dataframe_categoricas.columns:\n",
    "        print(f\"La columna {col.upper()} tiene las siguientes valore únicos:\")\n",
    "        display(pd.DataFrame(dataframe[col].value_counts()))   \n",
    "    "
   ]
  },
  {
   "cell_type": "markdown",
   "metadata": {},
   "source": [
    "Exploramos el primer dataframe."
   ]
  },
  {
   "cell_type": "code",
   "execution_count": null,
   "metadata": {},
   "outputs": [],
   "source": [
    "exploracion_dataframe(df)"
   ]
  },
  {
   "cell_type": "markdown",
   "metadata": {},
   "source": [
    "Realizamos la exploracion del segundo dataframe."
   ]
  },
  {
   "cell_type": "code",
   "execution_count": null,
   "metadata": {},
   "outputs": [],
   "source": [
    "exploracion_dataframe(dfhist)"
   ]
  },
  {
   "cell_type": "markdown",
   "metadata": {},
   "source": [
    "Vamos a unir ambos dataframe por la columna que tienen en común, la columna Loyalty Number. Para ello vamos a usar un left join con la idea de conservar a todos los clientes, esten o no ya con nuestra compañia."
   ]
  },
  {
   "cell_type": "code",
   "execution_count": null,
   "metadata": {},
   "outputs": [],
   "source": [
    "df_unido = pd.merge(df, dfhist, on='Loyalty Number', how='inner')\n",
    "df_unido.head(3)\n"
   ]
  },
  {
   "cell_type": "markdown",
   "metadata": {},
   "source": [
    "Nos ha quedado un dataframe unido que inicialmente tiene la siguiente informacion:"
   ]
  },
  {
   "cell_type": "code",
   "execution_count": null,
   "metadata": {},
   "outputs": [],
   "source": [
    "df_unido.shape"
   ]
  },
  {
   "cell_type": "markdown",
   "metadata": {},
   "source": [
    "##### 2. Limpieza de datos."
   ]
  },
  {
   "cell_type": "markdown",
   "metadata": {},
   "source": [
    "Empecemos por eliminar los duplicados.Recordemos cuantos tenemos primero."
   ]
  },
  {
   "cell_type": "code",
   "execution_count": null,
   "metadata": {},
   "outputs": [],
   "source": [
    "df_unido.duplicated().sum()"
   ]
  },
  {
   "cell_type": "markdown",
   "metadata": {},
   "source": [
    "Eliminamos y comprobamos de nuevo el tamaño."
   ]
  },
  {
   "cell_type": "code",
   "execution_count": null,
   "metadata": {},
   "outputs": [],
   "source": [
    "df_unido.drop_duplicates(inplace=True)\n",
    "df_unido.duplicated().sum()"
   ]
  },
  {
   "cell_type": "markdown",
   "metadata": {},
   "source": [
    "Antes de empezar a tratar los nulos vamos a hacer algunas limpiezas en nuestro dataframe."
   ]
  },
  {
   "cell_type": "code",
   "execution_count": null,
   "metadata": {},
   "outputs": [],
   "source": [
    "def limpiar_columnas(dataframe):\n",
    "    \"\"\"\n",
    "    Limpia las columnas, las convierte en minusculas y le quita los espacios \n",
    "    entre palabras poniendoles un'_'\n",
    "    \n",
    "    Parametros:\n",
    "    Dataframe a modificar\n",
    "    \n",
    "    Returns:\n",
    "    Dataframe modificado.\n",
    "    \"\"\"\n",
    "    # Convierte los nombres de las columnas a minúsculas\n",
    "    dataframe.columns = [col.lower() for col in dataframe.columns]\n",
    "    \n",
    "   \n",
    "    dataframe.columns = [col.replace(' ', '_') for col in dataframe.columns]\n",
    "    #Si hay valors negativos en una columna numerica lo convertimos a nulo directamente.\n",
    "    \n",
    "    for col in dataframe.select_dtypes(include='number').columns:\n",
    "        dataframe[col] = dataframe[col].apply(lambda x: None if x < 0 else x)\n",
    "    \n",
    "    \n",
    "    return dataframe"
   ]
  },
  {
   "cell_type": "code",
   "execution_count": null,
   "metadata": {},
   "outputs": [],
   "source": [
    "df_unido = limpiar_columnas(df_unido)"
   ]
  },
  {
   "cell_type": "markdown",
   "metadata": {},
   "source": [
    "Vamos a empezar con los nulos. Como ya sabemos que no tiene columnas categóricas pues directamente buscamos en las numéricas."
   ]
  },
  {
   "cell_type": "code",
   "execution_count": null,
   "metadata": {},
   "outputs": [],
   "source": [
    "#Columnas numéricas con nulos \n",
    "\n",
    "nulos_num = df_unido[df_unido.columns[df_unido.isnull().any()]].select_dtypes(include = np.number).columns\n",
    "print(nulos_num)"
   ]
  },
  {
   "cell_type": "code",
   "execution_count": null,
   "metadata": {},
   "outputs": [],
   "source": [
    "# lo convertimos a DataFrame\n",
    "df_nulos = pd.DataFrame((df_unido.isnull().sum() / df.shape[0]) * 100, columns = [\"%_nulos\"])\n",
    "# filtramos el DataFrame para quedarnos solo con aquellas columnas que tengan nulos\n",
    "df_nulos = df_nulos[df_nulos[\"%_nulos\"] > 0]\n",
    "df_nulos\n",
    "\n",
    "\n"
   ]
  },
  {
   "cell_type": "code",
   "execution_count": null,
   "metadata": {},
   "outputs": [],
   "source": [
    "df_nulos.head()"
   ]
  },
  {
   "cell_type": "markdown",
   "metadata": {},
   "source": [
    "Vamos a visualizarlas primero."
   ]
  },
  {
   "cell_type": "markdown",
   "metadata": {},
   "source": [
    "Voy a empezar por las columnas de cancelaciones.Estas columnas indican si los clientes han dejado de serlo, por lo tanto los nulos los entiendo como que son clientes activos.Voy a convertir las columnas a categoricas y les voy a aplicar el valor \"Activo\"."
   ]
  },
  {
   "cell_type": "code",
   "execution_count": null,
   "metadata": {},
   "outputs": [],
   "source": [
    "# # iteramos por la lista de columnas a las que le vamos a cambiar los nulos por \"Uknown\"\n",
    "columnas = ['cancellation_year','cancellation_month']\n",
    "\n",
    "for col in columnas:\n",
    "    df_unido[col] = df_unido[col].fillna(\"Activo\")\n",
    "    df_unido[col] = df_unido[col].astype(str)\n",
    "    \n",
    "    # comprobamos si quedan nulos en las columnas categóricas. \n",
    "    print(f\"Después del fillna' quedan los siguientes nulos {df_unido[col].isnull().sum()}\")\n",
    "    "
   ]
  },
  {
   "cell_type": "code",
   "execution_count": null,
   "metadata": {},
   "outputs": [],
   "source": [
    "df_unido['cancellation_year'].unique()"
   ]
  },
  {
   "cell_type": "code",
   "execution_count": null,
   "metadata": {},
   "outputs": [],
   "source": [
    "df_unido['cancellation_month'].unique()"
   ]
  },
  {
   "cell_type": "markdown",
   "metadata": {},
   "source": [
    "Para la tabla salary, vamos a aplicarle los métodos Iterative Imputer y el KNN.\n",
    "Empezamos por el Iterative Imputer.También lo compararemos con su media y con la mediana."
   ]
  },
  {
   "cell_type": "markdown",
   "metadata": {},
   "source": [
    "Empecemos mirando su media y su mediana"
   ]
  },
  {
   "cell_type": "code",
   "execution_count": null,
   "metadata": {},
   "outputs": [],
   "source": [
    "# Mostrar estadísticas descriptivas para 'salary'\n",
    "print(df_unido['salary'].describe())\n"
   ]
  },
  {
   "cell_type": "markdown",
   "metadata": {},
   "source": [
    "Vayamos ahora con el Iterative Imputer"
   ]
  },
  {
   "cell_type": "code",
   "execution_count": null,
   "metadata": {},
   "outputs": [],
   "source": [
    "df_unido_copy = df_unido.copy()"
   ]
  },
  {
   "cell_type": "code",
   "execution_count": null,
   "metadata": {},
   "outputs": [],
   "source": [
    "imputer_iterative = IterativeImputer(max_iter = 20, random_state = 42)\n",
    "imputer_iterative_imputado = imputer_iterative.fit_transform(df_unido_copy[[\"salary\"]])\n",
    "imputer_iterative_imputado"
   ]
  },
  {
   "cell_type": "code",
   "execution_count": null,
   "metadata": {},
   "outputs": [],
   "source": [
    "df_unido_copy[\"IT_salary\"] = imputer_iterative_imputado\n",
    "print(f\"Después del 'Iterative' tenemos: \\n{df_unido_copy['IT_salary'].isnull().sum()} nulos\")"
   ]
  },
  {
   "cell_type": "markdown",
   "metadata": {},
   "source": [
    "KNN IMPUTER"
   ]
  },
  {
   "cell_type": "code",
   "execution_count": null,
   "metadata": {},
   "outputs": [],
   "source": [
    "# # instanciamos la clase del KNNImputer\n",
    "# imputer_knn = KNNImputer(n_neighbors = 5)\n",
    "# imputer_knn_imputado = imputer_knn.fit_transform(df_unido[[\"salary\"]])\n",
    "# imputer_knn_imputado"
   ]
  },
  {
   "cell_type": "code",
   "execution_count": null,
   "metadata": {},
   "outputs": [],
   "source": [
    "#df_unido[[\"salary_knn\"]] = imputer_knn_imputado"
   ]
  },
  {
   "cell_type": "code",
   "execution_count": null,
   "metadata": {},
   "outputs": [],
   "source": [
    "#Comprobamos si hemos sustituido todos los nulos\n",
    "#print(f\"Después del 'KNN' tenemos: \\n{df_unido[['salary_knn']].isnull().sum()} nulos\")"
   ]
  },
  {
   "cell_type": "code",
   "execution_count": null,
   "metadata": {},
   "outputs": [],
   "source": [
    "df_unido.columns"
   ]
  },
  {
   "cell_type": "code",
   "execution_count": null,
   "metadata": {},
   "outputs": [],
   "source": [
    "df_unido.describe()[[\"salary\", \"salary_it\"]]"
   ]
  },
  {
   "cell_type": "code",
   "execution_count": null,
   "metadata": {},
   "outputs": [],
   "source": [
    "# ahora vamos a cambiar el nombre de las columnas que quedaron para que tengan el mismo nombre de origen\n",
    "nuevo_nombre = {\"salary_it\": \"salary\"}\n",
    "df_unido.rename(columns = nuevo_nombre, inplace = True)"
   ]
  },
  {
   "cell_type": "code",
   "execution_count": null,
   "metadata": {},
   "outputs": [],
   "source": [
    "df_unido['salary'].value_counts()"
   ]
  },
  {
   "cell_type": "code",
   "execution_count": null,
   "metadata": {},
   "outputs": [],
   "source": [
    "df_unido.columns"
   ]
  },
  {
   "cell_type": "markdown",
   "metadata": {},
   "source": [
    "###                 Fase 2: Visualización"
   ]
  },
  {
   "cell_type": "markdown",
   "metadata": {},
   "source": [
    "#### 1. ¿Cómo se distribuye la cantidad de vuelos reservados por mes durante el año?"
   ]
  },
  {
   "cell_type": "code",
   "execution_count": null,
   "metadata": {},
   "outputs": [],
   "source": [
    "meses = {1: 'enero', 2: 'febrero', 3: 'marzo', 4: 'abril', 5: 'mayo', 6: 'junio',\n",
    "                 7: 'julio', 8: 'agosto', 9: 'septiembre', 10: 'octubre', 11: 'noviembre', 12: 'diciembre'}\n",
    "\n",
    "df_unido['nombre_mes'] = df_unido['month'].map(meses)\n",
    "\n",
    "plt.figure(figsize=(12, 6))\n",
    "sns.barplot(data=df_unido, x='nombre_mes', y='flights_booked', ci=None, hue='year', palette='magma')\n",
    "plt.xlabel('Mes')\n",
    "plt.ylabel('Vuelos reservados')\n",
    "plt.title('Distribución de Vuelos Reservados por Mes y Año')\n",
    "plt.legend(title='Año')\n",
    "plt.xticks(rotation=45)  \n",
    "plt.show(); "
   ]
  },
  {
   "cell_type": "markdown",
   "metadata": {},
   "source": [
    "\n",
    "Vemos que las reservas de vuelos son mayores en 2018 que en 2017\n",
    "Además apreciamos que en ambos años hay crecimiento en el número de reservas\n",
    "en marzo\n",
    "en mayo y sigue creciendo hata julio donde alcanza su pico y disminuye en agosto y aun más en septiembre\n",
    "en diciembre\n",
    "Todos estos picos corresponden con vacaciones escolares: Semana Santa, Verano y Navidad.\n",
    "Apreciamos también que los meses donde se efectuan menos reservas son en enero y febrero seguidos de abril."
   ]
  },
  {
   "cell_type": "markdown",
   "metadata": {},
   "source": [
    "#### 2.¿Existe una relación entre la distancia de los vuelos y los puntos acumulados por los clientes?"
   ]
  },
  {
   "cell_type": "code",
   "execution_count": null,
   "metadata": {},
   "outputs": [],
   "source": [
    "df_unido.columns"
   ]
  },
  {
   "cell_type": "code",
   "execution_count": null,
   "metadata": {},
   "outputs": [],
   "source": [
    "# Crear un scatterplot\n",
    "plt.figure(figsize=(7, 4))\n",
    "sns.scatterplot(x=\"distance\", y=\"points_accumulated\", data=df_unido, color=\"lightcoral\", alpha=0.5)\n",
    "plt.title(\"Distancia de los vuelos en relación a los puntos acumulados\")\n",
    "plt.xlabel(\"Distancia de los vuelos\")\n",
    "plt.ylabel(\"Puntos acumulados\")\n",
    "plt.show()"
   ]
  },
  {
   "cell_type": "markdown",
   "metadata": {},
   "source": [
    "Existe una clara tendencia positiva entre ambas variables, según sube una sube la otra, es decir, se obtienen mas puntos cuanta mas distancia se recorra."
   ]
  },
  {
   "cell_type": "markdown",
   "metadata": {},
   "source": [
    "#### 3. Cuál es la distribución de los clientes por provincia o estado?\n"
   ]
  },
  {
   "cell_type": "markdown",
   "metadata": {},
   "source": [
    "Comprobamos y vemos que solo tenemos datos de Canada, por lo que no tendremos que movernos enytre paises, solo por provincias."
   ]
  },
  {
   "cell_type": "code",
   "execution_count": null,
   "metadata": {},
   "outputs": [],
   "source": [
    "df_unido['country'].unique()"
   ]
  },
  {
   "cell_type": "code",
   "execution_count": null,
   "metadata": {},
   "outputs": [],
   "source": [
    "#Crear un countplot\n",
    "plt.figure(figsize=(8, 4))\n",
    "sns.countplot(x=\"province\",data=df_unido, color=\"magenta\")\n",
    "plt.title(\"Distribución de clientes por provincia o estado\")\n",
    "plt.xlabel(\"Provincia o Estado\")\n",
    "plt.ylabel(\"Número de Clientes\")\n",
    "plt.xticks(rotation=45, ha=\"right\")  \n",
    "plt.show()\n"
   ]
  },
  {
   "cell_type": "markdown",
   "metadata": {},
   "source": [
    "Los datos nos muestran que la mayor parte de los clientes son de Ontario, British Columbia y Quebec.\n",
    "Por otro lado, las provincias con menor cantidad de clientes son Yukon y Prince Edward Island"
   ]
  },
  {
   "cell_type": "markdown",
   "metadata": {},
   "source": [
    "#### 4.Cómo se compara el salario promedio entre los diferentes niveles educativos de los clientes?"
   ]
  },
  {
   "cell_type": "code",
   "execution_count": null,
   "metadata": {},
   "outputs": [],
   "source": [
    "df_unido[\"education\"].value_counts()"
   ]
  },
  {
   "cell_type": "code",
   "execution_count": null,
   "metadata": {},
   "outputs": [],
   "source": [
    "#rdenamos los niveles educativos\n",
    "educacion_ordenada = [\"High School or Below\", \"College\", \"Bachelor\", \"Master\", \"Doctor\"]\n",
    "educacion_ordenada"
   ]
  },
  {
   "cell_type": "code",
   "execution_count": null,
   "metadata": {},
   "outputs": [],
   "source": [
    "df_unido['salary'].value_counts()"
   ]
  },
  {
   "cell_type": "code",
   "execution_count": null,
   "metadata": {},
   "outputs": [],
   "source": [
    "import matplotlib.pyplot as plt\n",
    "import seaborn as sns\n",
    "\n",
    "# Eliminar filas con valores nulos en 'education' o 'salary'\n",
    "df_unido_clean = df_unido.dropna(subset=['education', 'salary'])\n",
    "\n",
    "# Crear el gráfico de barras\n",
    "plt.figure(figsize=(12, 6))\n",
    "sns.barplot(x='education', y='salary', data=df_unido_clean, palette='viridis', ci=None)\n",
    "\n",
    "# Añadir etiquetas y título\n",
    "plt.xlabel('Education Level')\n",
    "plt.ylabel('Salary')\n",
    "plt.title('Salary by Education Level')\n",
    "\n",
    "# Rotar etiquetas del eje x para mayor legibilidad\n",
    "plt.xticks(rotation=45, ha='right')\n",
    "\n",
    "# Mostrar el gráfico\n",
    "plt.show()\n"
   ]
  },
  {
   "cell_type": "code",
   "execution_count": null,
   "metadata": {},
   "outputs": [],
   "source": [
    "import matplotlib.pyplot as plt\n",
    "import seaborn as sns\n",
    "\n",
    "# Group by 'education' and calculate the mean salary for each group\n",
    "education_salary = df_unido.groupby('education')['salary'].mean().reset_index()\n",
    "\n",
    "# Plot the bar chart\n",
    "plt.figure(figsize=(12, 6))\n",
    "sns.barplot(x='education', y='salary', data=education_salary, palette='viridis', ci=None)\n",
    "\n",
    "# Add labels and title\n",
    "plt.xlabel('Education Level')\n",
    "plt.ylabel('Average Salary')\n",
    "plt.title('Average Salary by Education Level')\n",
    "\n",
    "# Show the plot\n",
    "plt.show()\n"
   ]
  },
  {
   "cell_type": "code",
   "execution_count": null,
   "metadata": {},
   "outputs": [],
   "source": [
    "sns.set(style=\"whitegrid\")\n",
    "\n",
    "# Crear el gráfico de barras\n",
    "plt.figure(figsize=(12, 6))\n",
    "sns.barplot(x='education', y='salary', data=df_unido, palette='viridis', ci=None)\n",
    "\n",
    "# Añadir etiquetas y título\n",
    "plt.xlabel('Nivel Educativo')\n",
    "plt.ylabel('Salario Promedio')\n",
    "plt.title('Comparación del Salario Promedio por Nivel Educativo')"
   ]
  },
  {
   "cell_type": "code",
   "execution_count": null,
   "metadata": {},
   "outputs": [],
   "source": [
    "# Definir el orden de menos a más de las values de Education\n",
    "educacion_ordenada = ['High School or Below', 'College', 'Bachelor', 'Master', 'Doctor']\n",
    "\n",
    "# Media del salario agrupado por nivel educativo\n",
    "df_salario_agrupado = df.groupby('education')['salary'].mean().reindex(educacion_ordenada).reset_index()\n",
    "\n",
    "# Crear un gráfico de barras para comparar el salario promedio por nivel educativo\n",
    "plt.figure(figsize=(10, 6))\n",
    "sns.barplot(x='education', y='salary', data=df_salario_agrupado, order=educacion_ordenada, palette='viridis')\n",
    "plt.title('Salario Promedio por Nivel Educativo')\n",
    "plt.xlabel('Nivel Educativo')\n",
    "plt.ylabel('Salario Promedio')\n",
    "plt.show()"
   ]
  },
  {
   "cell_type": "code",
   "execution_count": null,
   "metadata": {},
   "outputs": [],
   "source": [
    "# Crear un grafico de barras\n",
    "plt.figure(figsize=(8, 4))\n",
    "sns.barplot(x=\"salary\", y = \"education\" ,data=df_unido, color=\"darkmagenta\", order=educacion_ordenada)\n",
    "plt.title(\"Distribución del nivel educativo de los clientes y su salario\")\n",
    "plt.xlabel(\"Salario\")\n",
    "plt.ylabel(\"Nivel educativo\")\n",
    "plt.xticks(rotation=45, ha=\"right\")  \n",
    "plt.show()"
   ]
  },
  {
   "cell_type": "markdown",
   "metadata": {},
   "source": [
    "Cómo se compara el salario promedio entre los diferentes niveles educativos de los clientes?\n",
    "Vemos que los clientes con doctorados son claramente los clientes con mayor salario.\n",
    "Los clientes con menor nivel de estudios son los que menos cobran, seguidos de cerca por aquellos que han realizado una licenciatura.\n",
    "Curiosamente cobran más los que han estudiado una diplomatura y menos los de licenciaturas.\n",
    "Aquellos con un master tienen un sueldo notoriamente superior a los licenciados.\n",
    "Podemos concluir que en general a mayor cantidad de estudios mayor es el salario, salvo en el caso de las diplomaturas y licenciaturas, que resulta al revés"
   ]
  },
  {
   "cell_type": "markdown",
   "metadata": {},
   "source": [
    "5. ¿Cuál es la proporción de clientes con diferentes tipos de tarjetas de fidelidad?"
   ]
  },
  {
   "cell_type": "markdown",
   "metadata": {},
   "source": [
    "Cómo se distribuyen los clientes según su estado civil y género?\n",
    "Podemos ver que la gran mayoria de clientes, tanto en hombres como en mujeres es de casados, y los que menos viajan con nosotros son los divorciados."
   ]
  },
  {
   "cell_type": "markdown",
   "metadata": {},
   "source": [
    "#### 5. ¿Cuál es la proporción de clientes con diferentes tipos de tarjetas de fidelidad?."
   ]
  },
  {
   "cell_type": "code",
   "execution_count": null,
   "metadata": {},
   "outputs": [],
   "source": [
    "df_tarjetas = df_unido.groupby(\"loyalty_card\")[\"loyalty_number\"].count().reset_index()\n",
    "df_tarjetas"
   ]
  },
  {
   "cell_type": "code",
   "execution_count": null,
   "metadata": {},
   "outputs": [],
   "source": [
    "plt.pie(\"loyalty_number\", labels= \"loyalty_card\",\n",
    "        data = df_tarjetas, \n",
    "        autopct=  '%1.1f%%', \n",
    "        textprops={'fontsize': 8}, \n",
    "        startangle=90)\n",
    "plt.title(\"Proporción de clientes - Tarjeta de fidelidad\")\n",
    "plt.show()"
   ]
  },
  {
   "cell_type": "markdown",
   "metadata": {},
   "source": [
    "\n",
    "Podemos observar que la mayoría, el 45,6%, de los clientes tienen la tarjeta de fidelidad Star.\n",
    "En cambio la tarjeta Aurora que tiene menor cantidad de gente es la Aurora."
   ]
  },
  {
   "cell_type": "code",
   "execution_count": null,
   "metadata": {},
   "outputs": [],
   "source": [
    "# Crear un grafico de barras\n",
    "plt.figure(figsize=(8, 4))\n",
    "sns.countplot(x=\"gender\", hue= \"marital_status\" ,data=df_tarjetas, palette='dark:darkmagenta')\n",
    "plt.title(\"Distribución los clientes según su género y su estado civil\")\n",
    "plt.xlabel(\"Genero\")\n",
    "plt.ylabel(\"Número de clientes\")\n",
    "plt.xticks(rotation=45, ha=\"right\")  \n",
    "plt.show()"
   ]
  },
  {
   "cell_type": "markdown",
   "metadata": {},
   "source": [
    "#### 6. Cómo se distribuyen los clientes según su estado civil y género?"
   ]
  },
  {
   "cell_type": "code",
   "execution_count": null,
   "metadata": {},
   "outputs": [],
   "source": [
    "df_unido.columns"
   ]
  },
  {
   "cell_type": "code",
   "execution_count": null,
   "metadata": {},
   "outputs": [],
   "source": [
    "\n",
    "\n",
    "df_marital = df_unido[['marital_status', 'gender']]\n",
    "plt.figure(figsize=(12, 6))\n",
    "sns.countplot(x='marital_status', hue='gender', data=df_marital, palette='Set2')\n",
    "\n",
    "# Mostrar el plot\n",
    "plt.title('Distribución de Clientes según Estado Civil y Género')\n",
    "plt.xlabel('Estado Civil')\n",
    "plt.ylabel('Conteo')\n",
    "plt.show()\n"
   ]
  },
  {
   "cell_type": "markdown",
   "metadata": {},
   "source": [
    "Los datos nos muestran que:\n",
    "El gran grueso de cliente se encuentra casado.\n",
    "Los que menos viajan están divorciados.\n",
    "No parece haber una diferencia de comportamiento en cuanto a género, ya que las distribuciones por estado civil son bastantes pares, así como el conteo de viajes."
   ]
  },
  {
   "cell_type": "markdown",
   "metadata": {},
   "source": [
    "### Fase 3: Evaluación de Diferencias en Reservas de Vuelos por Nivel Educativo"
   ]
  },
  {
   "cell_type": "markdown",
   "metadata": {},
   "source": [
    "Utilizando un conjunto de datos que hemos compartido, se busca evaluar si existen diferencias significativas en el número de vuelos reservados según el nivel educativo de los clientes. Para ello, los pasos que deberas seguir son:"
   ]
  },
  {
   "cell_type": "markdown",
   "metadata": {},
   "source": [
    "#### 1. Preparación de Datos:"
   ]
  },
  {
   "cell_type": "markdown",
   "metadata": {},
   "source": [
    "Filtra el conjunto de datos para incluir únicamente las columnas relevantes: 'Flights Booked' y 'Education'."
   ]
  },
  {
   "cell_type": "code",
   "execution_count": null,
   "metadata": {},
   "outputs": [],
   "source": [
    "df_filtrado = df_unido[['flights_booked','education']]\n",
    "df_filtrado.head()"
   ]
  },
  {
   "cell_type": "markdown",
   "metadata": {},
   "source": [
    "#### 2.Análisis Descriptivo:"
   ]
  },
  {
   "cell_type": "markdown",
   "metadata": {},
   "source": [
    "Agrupa los datos por nivel educativo y calcula estadísticas descriptivas básicas (como el promedio, la desviación estandar, los percentiles) del número de vuelos reservados para cada grupo."
   ]
  },
  {
   "cell_type": "code",
   "execution_count": null,
   "metadata": {},
   "outputs": [],
   "source": [
    "nivel_educativo = df_filtrado.groupby('education')['flights_booked'].describe()\n",
    "\n",
    "nivel_educativo"
   ]
  },
  {
   "cell_type": "markdown",
   "metadata": {},
   "source": [
    "#### 3.Prueba Estadística"
   ]
  },
  {
   "cell_type": "markdown",
   "metadata": {},
   "source": [
    "Realiza una prueba de A/B testing para determinar si existe una diferencia significativa en el número de vuelos reservados entre los diferentes niveles educativos."
   ]
  },
  {
   "cell_type": "markdown",
   "metadata": {},
   "source": [
    "Para resolverlo, vamos a tomar la Hipotesis 0 H[0] y la Hipótesis 1 H[1].\n",
    "\n",
    "H[0],será la negacion de lo que queremos demostrar, es decir, que no existe diferencia\n",
    "significativa en el numero de vuelos reservados entre los clientes conniveles educativos considerados altos (Doctor,Master,Bachelor) y aquellos con niveles educativos considerados bajos(college,High Scholl or below).\n",
    "\n",
    "La hipotesis H[1] será por el contrariio la demostración de que si existe diferencia."
   ]
  },
  {
   "cell_type": "code",
   "execution_count": null,
   "metadata": {},
   "outputs": [],
   "source": [
    "df_filtrado.info()"
   ]
  },
  {
   "cell_type": "code",
   "execution_count": null,
   "metadata": {},
   "outputs": [],
   "source": [
    "df_filtrado['education_group'] = np.where(df_filtrado['education'].isin(['Doctor', 'Master', 'Bachelor']), 'Control', 'Test')"
   ]
  },
  {
   "cell_type": "code",
   "execution_count": null,
   "metadata": {},
   "outputs": [],
   "source": [
    "df_filtrado.sample(6)"
   ]
  },
  {
   "cell_type": "markdown",
   "metadata": {},
   "source": [
    "Ahora voy a hacerle un test de normalidad (Test de Shapiro) Si no tiene normalidad directamente le har'e el test de Mann-Whitney."
   ]
  },
  {
   "cell_type": "code",
   "execution_count": null,
   "metadata": {},
   "outputs": [],
   "source": [
    "\n",
    "\n",
    "# Dividir el conjunto de datos en dos grupos\n",
    "grupo_control = df_unido[df_unido['education'].isin(['Bachelor', 'Master', 'Doctor'])]['flights_booked']\n",
    "grupo_tratamiento = df_unido[df_unido['education'].isin(['College', 'High School or Below'])]['flights_booked']\n",
    "\n",
    "# Realizar la prueba de Mann-Whitney U\n",
    "estadistico_U, p_valor = stats.mannwhitneyu(grupo_control, grupo_tratamiento, alternative='two-sided')\n",
    "\n",
    "# Definir el nivel de significancia\n",
    "nivel_significancia = 0.05\n",
    "\n",
    "# Comprobar el p-valor y tomar una decisión\n",
    "if p_valor < nivel_significancia:\n",
    "    print(f\"Se rechaza la hipótesis nula. Existe una diferencia significativa en el número de vuelos reservados entre los grupos.\")\n",
    "else:\n",
    "    print(\"No se rechaza la hipótesis nula. No hay suficiente evidencia para afirmar que hay una diferencia significativa.\")\n"
   ]
  }
 ],
 "metadata": {
  "kernelspec": {
   "display_name": "base",
   "language": "python",
   "name": "python3"
  },
  "language_info": {
   "codemirror_mode": {
    "name": "ipython",
    "version": 3
   },
   "file_extension": ".py",
   "mimetype": "text/x-python",
   "name": "python",
   "nbconvert_exporter": "python",
   "pygments_lexer": "ipython3",
   "version": "3.9.7"
  }
 },
 "nbformat": 4,
 "nbformat_minor": 2
}
